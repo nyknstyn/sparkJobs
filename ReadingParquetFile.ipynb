{
 "cells": [
  {
   "cell_type": "code",
   "execution_count": 1,
   "metadata": {},
   "outputs": [],
   "source": [
    "from pyspark import SparkConf, SparkContext\n",
    "from pyspark.sql import SparkSession, SQLContext\n"
   ]
  },
  {
   "cell_type": "code",
   "execution_count": 2,
   "metadata": {},
   "outputs": [],
   "source": [
    "conf = SparkConf().setAppName(\"eventVector\").setMaster(\"local[*]\")\n",
    "sc = SparkContext(conf=conf)\n",
    "spark = SparkSession(sparkContext=sc)"
   ]
  },
  {
   "cell_type": "code",
   "execution_count": 3,
   "metadata": {},
   "outputs": [],
   "source": [
    "df = spark.read.parquet(\"/Users/quikr/Downloads/qkr-user-evnts-parq-1-2019-05-08-08-31-00-709c3cf7-8ba0-4895-ad7f-3be5cc45f716.parquet\")\n",
    "\n"
   ]
  },
  {
   "cell_type": "code",
   "execution_count": 4,
   "metadata": {},
   "outputs": [
    {
     "data": {
      "text/plain": [
       "4739"
      ]
     },
     "execution_count": 4,
     "metadata": {},
     "output_type": "execute_result"
    }
   ],
   "source": [
    "df.count()"
   ]
  },
  {
   "cell_type": "code",
   "execution_count": 5,
   "metadata": {},
   "outputs": [
    {
     "data": {
      "text/plain": [
       "list"
      ]
     },
     "execution_count": 5,
     "metadata": {},
     "output_type": "execute_result"
    }
   ],
   "source": [
    "type(df.take(1))"
   ]
  },
  {
   "cell_type": "code",
   "execution_count": 6,
   "metadata": {},
   "outputs": [],
   "source": [
    "df.createOrReplaceTempView(\"events\")"
   ]
  },
  {
   "cell_type": "code",
   "execution_count": 7,
   "metadata": {},
   "outputs": [],
   "source": [
    "sqlFetch = spark.sql(\"SELECT * FROM events\")"
   ]
  },
  {
   "cell_type": "code",
   "execution_count": 8,
   "metadata": {},
   "outputs": [
    {
     "data": {
      "text/plain": [
       "pyspark.sql.dataframe.DataFrame"
      ]
     },
     "execution_count": 8,
     "metadata": {},
     "output_type": "execute_result"
    }
   ],
   "source": [
    "type(sqlFetch)"
   ]
  },
  {
   "cell_type": "code",
   "execution_count": 9,
   "metadata": {},
   "outputs": [],
   "source": [
    "schema = df.schema"
   ]
  },
  {
   "cell_type": "code",
   "execution_count": 10,
   "metadata": {},
   "outputs": [
    {
     "name": "stdout",
     "output_type": "stream",
     "text": [
      "root\n",
      " |-- demail: string (nullable = true)\n",
      " |-- deemail: string (nullable = true)\n",
      " |-- deviceid: string (nullable = true)\n",
      " |-- cookie_id: string (nullable = true)\n",
      " |-- source: string (nullable = true)\n",
      " |-- event_id: string (nullable = true)\n",
      " |-- request_time: integer (nullable = true)\n",
      " |-- request_time_ms: long (nullable = true)\n",
      " |-- event_type: string (nullable = true)\n",
      " |-- category_id: string (nullable = true)\n",
      " |-- category_name: string (nullable = true)\n",
      " |-- subcategory_id: string (nullable = true)\n",
      " |-- subcategory_name: string (nullable = true)\n",
      " |-- uuid: string (nullable = true)\n",
      " |-- ad_id: string (nullable = true)\n",
      " |-- city_id: string (nullable = true)\n",
      " |-- user_db_id: string (nullable = true)\n",
      " |-- city_name: string (nullable = true)\n",
      " |-- language: string (nullable = true)\n",
      " |-- locality: string (nullable = true)\n",
      " |-- mobile: string (nullable = true)\n",
      " |-- email: string (nullable = true)\n",
      " |-- app_version: string (nullable = true)\n",
      " |-- utm_info: struct (nullable = true)\n",
      " |    |-- source: string (nullable = true)\n",
      " |    |-- medium: string (nullable = true)\n",
      " |    |-- name: string (nullable = true)\n",
      " |-- app_info: struct (nullable = true)\n",
      " |    |-- app_version: string (nullable = true)\n",
      " |    |-- install_type: string (nullable = true)\n",
      " |    |-- install_time_epoc_ms: string (nullable = true)\n",
      " |    |-- source: string (nullable = true)\n",
      " |-- device_info: struct (nullable = true)\n",
      " |    |-- os: string (nullable = true)\n",
      " |    |-- os_version: string (nullable = true)\n",
      " |    |-- mobile_agent: string (nullable = true)\n",
      " |    |-- mobile_brand: string (nullable = true)\n",
      " |    |-- mobile_model: string (nullable = true)\n",
      " |    |-- browser_agent: string (nullable = true)\n",
      " |    |-- carrier: string (nullable = true)\n",
      " |    |-- browser: string (nullable = true)\n",
      " |    |-- device_type: string (nullable = true)\n",
      " |-- page_info: struct (nullable = true)\n",
      " |    |-- url: string (nullable = true)\n",
      " |    |-- ref_url: string (nullable = true)\n",
      " |    |-- source: string (nullable = true)\n",
      " |    |-- ref_id: string (nullable = true)\n",
      " |-- properties: struct (nullable = true)\n",
      " |    |-- modifiedTime: string (nullable = true)\n",
      " |    |-- metadata: string (nullable = true)\n",
      " |    |-- QPS_Paid: string (nullable = true)\n",
      " |    |-- You_are: string (nullable = true)\n",
      " |    |-- adOfferingType: string (nullable = true)\n",
      " |    |-- available_languages: string (nullable = true)\n",
      " |    |-- pageName: string (nullable = true)\n",
      " |    |-- flagReason: string (nullable = true)\n",
      " |    |-- cas_updateTime: string (nullable = true)\n",
      " |    |-- repostTime: string (nullable = true)\n",
      " |    |-- cat_landing: integer (nullable = true)\n",
      " |    |-- stateName: string (nullable = true)\n",
      " |    |-- verifiedAd: string (nullable = true)\n",
      " |    |-- createdTime: string (nullable = true)\n",
      " |    |-- image_count: string (nullable = true)\n",
      " |    |-- admDeleteReviewStatus: string (nullable = true)\n",
      " |    |-- state_id: string (nullable = true)\n",
      " |    |-- user_email: string (nullable = true)\n",
      " |    |-- user_privacy: string (nullable = true)\n",
      " |    |-- adQuikrSource: string (nullable = true)\n",
      " |    |-- category_pid: string (nullable = true)\n",
      " |    |-- entityType: string (nullable = true)\n",
      " |    |-- verifiedLeadStatus: string (nullable = true)\n",
      " |    |-- Ad_Type: string (nullable = true)\n",
      " |    |-- wrongAdType: string (nullable = true)\n",
      " |    |-- subcat_landing: integer (nullable = true)\n",
      " |    |-- zipcode: string (nullable = true)\n",
      " |    |-- utmParams: string (nullable = true)\n",
      " |    |-- eventData: string (nullable = true)\n",
      " |    |-- expireTime: string (nullable = true)\n",
      " |    |-- Price: string (nullable = true)\n",
      " |    |-- adExpireTime: string (nullable = true)\n",
      " |    |-- subcatname: string (nullable = true)\n",
      " |    |-- verified_mobile: string (nullable = true)\n",
      " |    |-- city_id: string (nullable = true)\n",
      " |    |-- status: string (nullable = true)\n",
      " |    |-- original_language: string (nullable = true)\n",
      " |    |-- deal: string (nullable = true)\n",
      " |    |-- category_pgid: string (nullable = true)\n",
      " |    |-- catname: string (nullable = true)\n",
      " |    |-- adEditedTime: string (nullable = true)\n",
      " |    |-- city: string (nullable = true)\n",
      " |    |-- sortable_price: string (nullable = true)\n",
      " |    |-- user_name: string (nullable = true)\n",
      " |    |-- adActionType: string (nullable = true)\n",
      " |    |-- ad_quality_score: string (nullable = true)\n",
      " |    |-- isFBAppAd: string (nullable = true)\n",
      " |    |-- title: string (nullable = true)\n",
      " |    |-- admSoldOutModifiedTime: string (nullable = true)\n",
      " |    |-- categoryName: string (nullable = true)\n",
      " |    |-- platform: string (nullable = true)\n",
      " |    |-- phoneNo: string (nullable = true)\n",
      " |    |-- metaCategoryName: string (nullable = true)\n",
      " |    |-- user_dEmail: string (nullable = true)\n",
      " |    |-- repostFrom: string (nullable = true)\n",
      " |    |-- Escrow_adScore: string (nullable = true)\n",
      " |    |-- doc_language: string (nullable = true)\n",
      " |    |-- cas: string (nullable = true)\n",
      " |    |-- category_id: string (nullable = true)\n",
      " |    |-- cityName: string (nullable = true)\n",
      " |    |-- abRandValue: string (nullable = true)\n",
      " |    |-- locality_count: string (nullable = true)\n",
      " |    |-- adSentCount: string (nullable = true)\n",
      " |    |-- user_nickname: string (nullable = true)\n",
      " |    |-- Brand_name: string (nullable = true)\n",
      " |    |-- buyer_conv_fee: string (nullable = true)\n",
      " |    |-- c2c_pickup: string (nullable = true)\n",
      " |    |-- email: string (nullable = true)\n",
      " |    |-- user_rating: string (nullable = true)\n",
      " |    |-- Condition: string (nullable = true)\n",
      " |    |-- sold: string (nullable = true)\n",
      " |    |-- geo_pin: string (nullable = true)\n",
      " |    |-- Conv_Fee_Experiment: string (nullable = true)\n",
      " |    |-- adStyle: string (nullable = true)\n",
      " |    |-- Product_Condition: string (nullable = true)\n",
      " |    |-- sourceDevice: string (nullable = true)\n",
      " |    |-- userId: string (nullable = true)\n",
      " |    |-- category_gid: string (nullable = true)\n",
      " |    |-- deleteReason: string (nullable = true)\n",
      " |    |-- Reserved_Price: string (nullable = true)\n",
      " |    |-- referrer: string (nullable = true)\n",
      " |    |-- encrypted: string (nullable = true)\n",
      " |    |-- firstCreatedTime: string (nullable = true)\n",
      " |    |-- Posted_By: string (nullable = true)\n",
      " |    |-- ad_locality: string (nullable = true)\n",
      " |    |-- Model: string (nullable = true)\n",
      " |    |-- masterCheckDate: string (nullable = true)\n",
      " |    |-- NCACreationValidation: string (nullable = true)\n",
      " |    |-- userIp: string (nullable = true)\n",
      " |    |-- category: string (nullable = true)\n",
      " |    |-- user_fbid: string (nullable = true)\n",
      " |    |-- adActionTime: string (nullable = true)\n",
      " |    |-- recentlyViewedTime: string (nullable = true)\n",
      " |    |-- weight_type: string (nullable = true)\n",
      " |    |-- utmInfo: string (nullable = true)\n",
      " |    |-- app_version: string (nullable = true)\n",
      " |    |-- Quikr_Certified_Furniture: string (nullable = true)\n",
      " |    |-- Furniture_Type: string (nullable = true)\n",
      " |    |-- presence: string (nullable = true)\n",
      " |    |-- app_os: string (nullable = true)\n",
      " |    |-- furniture_material: string (nullable = true)\n",
      " |    |-- Minimum_Expected_Price: string (nullable = true)\n",
      " |    |-- furniture_age: string (nullable = true)\n",
      " |    |-- Quikr_Unboxed: string (nullable = true)\n",
      " |    |-- masterNickname: string (nullable = true)\n",
      " |    |-- quikrscanner: string (nullable = true)\n",
      " |    |-- Physical_Condition: string (nullable = true)\n",
      " |    |-- order_paymentFor: string (nullable = true)\n",
      " |    |-- order_table_id: string (nullable = true)\n",
      " |    |-- order_createdTimestamp: string (nullable = true)\n",
      " |    |-- PremiumAdType: string (nullable = true)\n",
      " |    |-- FeaturesSet: string (nullable = true)\n",
      " |    |-- order_orderId: string (nullable = true)\n",
      " |    |-- order_paymentStatus: string (nullable = true)\n",
      " |    |-- order_attempts: string (nullable = true)\n",
      " |    |-- order_amount: string (nullable = true)\n",
      " |    |-- order_modeofpayment: string (nullable = true)\n",
      " |    |-- order_parentpackid: string (nullable = true)\n",
      " |    |-- order_adCreditCount: string (nullable = true)\n",
      " |    |-- order_packid: string (nullable = true)\n",
      " |    |-- order_updatedTimestamp: string (nullable = true)\n",
      " |    |-- user_specific_key: string (nullable = true)\n",
      " |    |-- No_Negotiate_Price: string (nullable = true)\n",
      " |    |-- Mobile_Validate: string (nullable = true)\n",
      " |    |-- Furniture_SubType: string (nullable = true)\n",
      " |-- property: string (nullable = true)\n",
      " |-- utminfo: struct (nullable = true)\n",
      " |    |-- source: string (nullable = true)\n",
      " |    |-- medium: string (nullable = true)\n",
      " |    |-- name: string (nullable = true)\n",
      "\n"
     ]
    }
   ],
   "source": [
    "df.printSchema()"
   ]
  },
  {
   "cell_type": "code",
   "execution_count": 11,
   "metadata": {},
   "outputs": [
    {
     "data": {
      "text/plain": [
       "DataFrame[demail: string, deemail: string, deviceid: string, cookie_id: string, source: string, event_id: string, request_time: int, request_time_ms: bigint, event_type: string, category_id: string, category_name: string, subcategory_id: string, subcategory_name: string, uuid: string, ad_id: string, city_id: string, user_db_id: string, city_name: string, language: string, locality: string, mobile: string, email: string, app_version: string, utm_info: string, app_info: struct<app_version:string,install_type:string,install_time_epoc_ms:string,source:string>, device_info: struct<os:string,os_version:string,mobile_agent:string,mobile_brand:string,mobile_model:string,browser_agent:string,carrier:string,browser:string,device_type:string>, page_info: string, properties: struct<modifiedTime:string,metadata:string,QPS_Paid:string,You_are:string,adOfferingType:string,available_languages:string,pageName:string,flagReason:string,cas_updateTime:string,repostTime:string,cat_landing:int,stateName:string,verifiedAd:string,createdTime:string,image_count:string,admDeleteReviewStatus:string,state_id:string,user_email:string,user_privacy:string,adQuikrSource:string,category_pid:string,entityType:string,verifiedLeadStatus:string,Ad_Type:string,wrongAdType:string,subcat_landing:int,zipcode:string,utmParams:string,eventData:string,expireTime:string,Price:string,adExpireTime:string,subcatname:string,verified_mobile:string,city_id:string,status:string,original_language:string,deal:string,category_pgid:string,catname:string,adEditedTime:string,city:string,sortable_price:string,user_name:string,adActionType:string,ad_quality_score:string,isFBAppAd:string,title:string,admSoldOutModifiedTime:string,categoryName:string,platform:string,phoneNo:string,metaCategoryName:string,user_dEmail:string,repostFrom:string,Escrow_adScore:string,doc_language:string,cas:string,category_id:string,cityName:string,abRandValue:string,locality_count:string,adSentCount:string,user_nickname:string,Brand_name:string,buyer_conv_fee:string,c2c_pickup:string,email:string,user_rating:string,Condition:string,sold:string,geo_pin:string,Conv_Fee_Experiment:string,adStyle:string,Product_Condition:string,sourceDevice:string,userId:string,category_gid:string,deleteReason:string,Reserved_Price:string,referrer:string,encrypted:string,firstCreatedTime:string,Posted_By:string,ad_locality:string,Model:string,masterCheckDate:string,NCACreationValidation:string,userIp:string,category:string,user_fbid:string,adActionTime:string,recentlyViewedTime:string,weight_type:string,utmInfo:string,app_version:string,Quikr_Certified_Furniture:string,Furniture_Type:string,presence:string,app_os:string,furniture_material:string,Minimum_Expected_Price:string,furniture_age:string,Quikr_Unboxed:string,masterNickname:string,quikrscanner:string,Physical_Condition:string,order_paymentFor:string,order_table_id:string,order_createdTimestamp:string,PremiumAdType:string,FeaturesSet:string,order_orderId:string,order_paymentStatus:string,order_attempts:string,order_amount:string,order_modeofpayment:string,order_parentpackid:string,order_adCreditCount:string,order_packid:string,order_updatedTimestamp:string,user_specific_key:string,No_Negotiate_Price:string,Mobile_Validate:string,Furniture_SubType:string>, property: string, utminfo: string]"
      ]
     },
     "execution_count": 11,
     "metadata": {},
     "output_type": "execute_result"
    }
   ],
   "source": [
    "df"
   ]
  },
  {
   "cell_type": "code",
   "execution_count": 20,
   "metadata": {},
   "outputs": [],
   "source": [
    "df1 = df.rdd.map(lambda s: (s[0], type(s)))\n"
   ]
  },
  {
   "cell_type": "code",
   "execution_count": 21,
   "metadata": {},
   "outputs": [
    {
     "data": {
      "text/plain": [
       "[(None, pyspark.sql.types.Row),\n",
       " (None, pyspark.sql.types.Row),\n",
       " (None, pyspark.sql.types.Row),\n",
       " ('qafrlahplwe2y@quikr.com', pyspark.sql.types.Row),\n",
       " (None, pyspark.sql.types.Row)]"
      ]
     },
     "execution_count": 21,
     "metadata": {},
     "output_type": "execute_result"
    }
   ],
   "source": [
    "df1.take(5)"
   ]
  },
  {
   "cell_type": "code",
   "execution_count": 11,
   "metadata": {},
   "outputs": [
    {
     "name": "stdout",
     "output_type": "stream",
     "text": [
      "Spark Context stopped\n"
     ]
    }
   ],
   "source": [
    "spark.stop();\n",
    "sc.stop()\n",
    "print(\"Spark Context stopped\")"
   ]
  },
  {
   "cell_type": "code",
   "execution_count": null,
   "metadata": {},
   "outputs": [],
   "source": []
  }
 ],
 "metadata": {
  "kernelspec": {
   "display_name": "Python 3",
   "language": "python",
   "name": "python3"
  },
  "language_info": {
   "codemirror_mode": {
    "name": "ipython",
    "version": 3
   },
   "file_extension": ".py",
   "mimetype": "text/x-python",
   "name": "python",
   "nbconvert_exporter": "python",
   "pygments_lexer": "ipython3",
   "version": "3.7.3"
  }
 },
 "nbformat": 4,
 "nbformat_minor": 2
}
